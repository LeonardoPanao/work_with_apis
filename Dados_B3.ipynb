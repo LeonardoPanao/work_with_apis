{
 "cells": [
  {
   "cell_type": "markdown",
   "metadata": {
    "application/vnd.databricks.v1+cell": {
     "cellMetadata": {},
     "inputWidgets": {},
     "nuid": "df7c5ae7-579d-4da8-a775-1065186c17c5",
     "showTitle": false,
     "title": ""
    }
   },
   "source": [
    "## 1. Instalação da Biblioteca yfinance"
   ]
  },
  {
   "cell_type": "code",
   "execution_count": 0,
   "metadata": {
    "application/vnd.databricks.v1+cell": {
     "cellMetadata": {
      "byteLimit": 2048000,
      "rowLimit": 10000
     },
     "inputWidgets": {},
     "nuid": "9dbb44b1-e9db-460d-b8ee-b87297ac0b47",
     "showTitle": false,
     "title": ""
    }
   },
   "outputs": [
    {
     "output_type": "stream",
     "name": "stdout",
     "output_type": "stream",
     "text": [
      "Python interpreter will be restarted.\nRequirement already satisfied: yfinance in /local_disk0/.ephemeral_nfs/envs/pythonEnv-18e00d0d-6ae4-4ca5-bc13-60d9b64128f0/lib/python3.9/site-packages (0.2.28)\nRequirement already satisfied: appdirs>=1.4.4 in /local_disk0/.ephemeral_nfs/envs/pythonEnv-18e00d0d-6ae4-4ca5-bc13-60d9b64128f0/lib/python3.9/site-packages (from yfinance) (1.4.4)\nRequirement already satisfied: lxml>=4.9.1 in /local_disk0/.ephemeral_nfs/envs/pythonEnv-18e00d0d-6ae4-4ca5-bc13-60d9b64128f0/lib/python3.9/site-packages (from yfinance) (4.9.3)\nRequirement already satisfied: beautifulsoup4>=4.11.1 in /databricks/python3/lib/python3.9/site-packages (from yfinance) (4.11.1)\nRequirement already satisfied: pytz>=2022.5 in /local_disk0/.ephemeral_nfs/envs/pythonEnv-18e00d0d-6ae4-4ca5-bc13-60d9b64128f0/lib/python3.9/site-packages (from yfinance) (2023.3.post1)\nRequirement already satisfied: numpy>=1.16.5 in /databricks/python3/lib/python3.9/site-packages (from yfinance) (1.21.5)\nRequirement already satisfied: html5lib>=1.1 in /local_disk0/.ephemeral_nfs/envs/pythonEnv-18e00d0d-6ae4-4ca5-bc13-60d9b64128f0/lib/python3.9/site-packages (from yfinance) (1.1)\nRequirement already satisfied: pandas>=1.3.0 in /databricks/python3/lib/python3.9/site-packages (from yfinance) (1.4.2)\nRequirement already satisfied: multitasking>=0.0.7 in /local_disk0/.ephemeral_nfs/envs/pythonEnv-18e00d0d-6ae4-4ca5-bc13-60d9b64128f0/lib/python3.9/site-packages (from yfinance) (0.0.11)\nRequirement already satisfied: frozendict>=2.3.4 in /local_disk0/.ephemeral_nfs/envs/pythonEnv-18e00d0d-6ae4-4ca5-bc13-60d9b64128f0/lib/python3.9/site-packages (from yfinance) (2.3.10)\nRequirement already satisfied: requests>=2.31 in /local_disk0/.ephemeral_nfs/envs/pythonEnv-18e00d0d-6ae4-4ca5-bc13-60d9b64128f0/lib/python3.9/site-packages (from yfinance) (2.31.0)\nRequirement already satisfied: soupsieve>1.2 in /databricks/python3/lib/python3.9/site-packages (from beautifulsoup4>=4.11.1->yfinance) (2.3.1)\nRequirement already satisfied: webencodings in /databricks/python3/lib/python3.9/site-packages (from html5lib>=1.1->yfinance) (0.5.1)\nRequirement already satisfied: six>=1.9 in /databricks/python3/lib/python3.9/site-packages (from html5lib>=1.1->yfinance) (1.16.0)\nRequirement already satisfied: python-dateutil>=2.8.1 in /databricks/python3/lib/python3.9/site-packages (from pandas>=1.3.0->yfinance) (2.8.2)\nRequirement already satisfied: idna<4,>=2.5 in /databricks/python3/lib/python3.9/site-packages (from requests>=2.31->yfinance) (3.3)\nRequirement already satisfied: charset-normalizer<4,>=2 in /databricks/python3/lib/python3.9/site-packages (from requests>=2.31->yfinance) (2.0.4)\nRequirement already satisfied: urllib3<3,>=1.21.1 in /databricks/python3/lib/python3.9/site-packages (from requests>=2.31->yfinance) (1.26.9)\nRequirement already satisfied: certifi>=2017.4.17 in /databricks/python3/lib/python3.9/site-packages (from requests>=2.31->yfinance) (2021.10.8)\nPython interpreter will be restarted.\n"
     ]
    }
   ],
   "source": [
    "pip install yfinance"
   ]
  },
  {
   "cell_type": "markdown",
   "metadata": {
    "application/vnd.databricks.v1+cell": {
     "cellMetadata": {
      "byteLimit": 2048000,
      "rowLimit": 10000
     },
     "inputWidgets": {},
     "nuid": "699df164-6b1c-4231-b3b8-c27666676135",
     "showTitle": false,
     "title": ""
    }
   },
   "source": [
    "## 1.1 Importação de Bibliotecas"
   ]
  },
  {
   "cell_type": "code",
   "execution_count": 0,
   "metadata": {
    "application/vnd.databricks.v1+cell": {
     "cellMetadata": {
      "byteLimit": 2048000,
      "rowLimit": 10000
     },
     "inputWidgets": {},
     "nuid": "5072985d-0d99-4782-8caf-5b490ae334e3",
     "showTitle": false,
     "title": ""
    }
   },
   "outputs": [
    {
     "output_type": "display_data",
     "data": {
      "application/vnd.databricks.v1+bamboolib_hint": "{\"pd.DataFrames\": [], \"version\": \"0.0.1\"}",
      "text/plain": []
     },
     "metadata": {},
     "output_type": "display_data"
    }
   ],
   "source": [
    "import yfinance as yf \n",
    "import pandas as pd\n",
    "import datetime\n",
    "import pytz"
   ]
  },
  {
   "cell_type": "markdown",
   "metadata": {
    "application/vnd.databricks.v1+cell": {
     "cellMetadata": {
      "byteLimit": 2048000,
      "rowLimit": 10000
     },
     "inputWidgets": {},
     "nuid": "250b72db-fd36-4fb6-ad10-fbabb87bae1f",
     "showTitle": false,
     "title": ""
    }
   },
   "source": [
    "## 2. Função para chamar a API do Yahoo com dados das ações da B3"
   ]
  },
  {
   "cell_type": "code",
   "execution_count": 0,
   "metadata": {
    "application/vnd.databricks.v1+cell": {
     "cellMetadata": {
      "byteLimit": 2048000,
      "rowLimit": 10000
     },
     "inputWidgets": {},
     "nuid": "28e00da6-f71f-487e-b327-6bec14acf2d3",
     "showTitle": false,
     "title": ""
    }
   },
   "outputs": [],
   "source": [
    "def buscar_acoes_b3(acoes):\n",
    "\n",
    "    data_list = []\n",
    "    acoes = acoes\n",
    "\n",
    "    for acao in acoes:\n",
    "        result = yf.Ticker(acao)\n",
    "        data = result.history(period='1d')  # Obtém dados históricos do último dia\n",
    "        data_list.append(data)\n",
    "\n",
    "    try: \n",
    "        return data_list\n",
    "    except KeyError: \n",
    "        print(f\"Não foi possível obter os dados\")\n",
    "\n",
    "acoes = ['ITSA4.SA', 'BBDC4.SA', 'BCSA34.SA', 'ROXO34.SA']\n",
    "dados_b3 = buscar_acoes_b3(acoes)"
   ]
  },
  {
   "cell_type": "code",
   "execution_count": 0,
   "metadata": {
    "application/vnd.databricks.v1+cell": {
     "cellMetadata": {
      "byteLimit": 2048000,
      "rowLimit": 10000
     },
     "inputWidgets": {},
     "nuid": "c8e35b0e-6aaf-4b55-a46e-8211fc6b688d",
     "showTitle": false,
     "title": ""
    }
   },
   "outputs": [
    {
     "output_type": "stream",
     "name": "stdout",
     "output_type": "stream",
     "text": [
      "[                           Open  High   Low  Close    Volume  Dividends  \\\nDate                                                                      \n2023-12-04 00:00:00-03:00  9.74  9.82  9.69   9.76  13926200        0.0   \n\n                           Stock Splits  \nDate                                     \n2023-12-04 00:00:00-03:00           0.0  ,                                 Open       High        Low      Close  \\\nDate                                                                    \n2023-12-04 00:00:00-03:00  16.219999  16.389999  16.120001  16.139999   \n\n                             Volume  Dividends  Stock Splits  \nDate                                                          \n2023-12-04 00:00:00-03:00  22325700   0.018975           0.0  ,                             Open  High        Low  Close  Volume  Dividends  \\\nDate                                                                          \n2023-12-04 00:00:00-03:00  20.27  20.4  20.040001   20.4    2199        0.0   \n\n                           Stock Splits  \nDate                                     \n2023-12-04 00:00:00-03:00           0.0  ,                            Open  High   Low  Close   Volume  Dividends  \\\nDate                                                                     \n2023-12-04 00:00:00-03:00  6.81  6.87  6.77   6.81  2283006        0.0   \n\n                           Stock Splits  \nDate                                     \n2023-12-04 00:00:00-03:00           0.0  ]\n"
     ]
    }
   ],
   "source": [
    "print(dados_b3)"
   ]
  },
  {
   "cell_type": "markdown",
   "metadata": {
    "application/vnd.databricks.v1+cell": {
     "cellMetadata": {
      "byteLimit": 2048000,
      "rowLimit": 10000
     },
     "inputWidgets": {},
     "nuid": "6b1115f8-3354-4979-b703-58adf98c246d",
     "showTitle": false,
     "title": ""
    }
   },
   "source": [
    "## 3. Nomeando as colunas do dataframe"
   ]
  },
  {
   "cell_type": "code",
   "execution_count": 0,
   "metadata": {
    "application/vnd.databricks.v1+cell": {
     "cellMetadata": {
      "byteLimit": 2048000,
      "rowLimit": 10000
     },
     "inputWidgets": {},
     "nuid": "b5a2867c-fc7c-46c9-80e3-77bf88c21afa",
     "showTitle": false,
     "title": ""
    }
   },
   "outputs": [],
   "source": [
    "colunas = ['Date', 'Open', 'High', 'Low', 'Close', 'Volume', 'Dividends']\n",
    "df = pd.concat(dados_b3, ignore_index=False)\n",
    "df['Nome'] = acoes\n",
    "selecao = ['Nome', 'Close']\n",
    "df_acoes = df[selecao]"
   ]
  },
  {
   "cell_type": "code",
   "execution_count": 0,
   "metadata": {
    "application/vnd.databricks.v1+cell": {
     "cellMetadata": {
      "byteLimit": 2048000,
      "rowLimit": 10000
     },
     "inputWidgets": {},
     "nuid": "d7050cd9-02b4-43de-9fb7-f8778bc41885",
     "showTitle": false,
     "title": ""
    }
   },
   "outputs": [
    {
     "output_type": "display_data",
     "data": {
      "text/html": [
       "<style scoped>\n",
       "  .table-result-container {\n",
       "    max-height: 300px;\n",
       "    overflow: auto;\n",
       "  }\n",
       "  table, th, td {\n",
       "    border: 1px solid black;\n",
       "    border-collapse: collapse;\n",
       "  }\n",
       "  th, td {\n",
       "    padding: 5px;\n",
       "  }\n",
       "  th {\n",
       "    text-align: left;\n",
       "  }\n",
       "</style><div class='table-result-container'><table class='table-result'><thead style='background-color: white'><tr><th>Nome</th><th>Close</th></tr></thead><tbody><tr><td>ITSA4.SA</td><td>9.760000228881836</td></tr><tr><td>BBDC4.SA</td><td>16.139999389648438</td></tr><tr><td>BCSA34.SA</td><td>20.399999618530273</td></tr><tr><td>ROXO34.SA</td><td>6.809999942779541</td></tr></tbody></table></div>"
      ]
     },
     "metadata": {
      "application/vnd.databricks.v1+output": {
       "addedWidgets": {},
       "aggData": [],
       "aggError": "",
       "aggOverflow": false,
       "aggSchema": [],
       "aggSeriesLimitReached": false,
       "aggType": "",
       "arguments": {},
       "columnCustomDisplayInfos": {},
       "data": [
        [
         "ITSA4.SA",
         9.760000228881836
        ],
        [
         "BBDC4.SA",
         16.139999389648438
        ],
        [
         "BCSA34.SA",
         20.399999618530273
        ],
        [
         "ROXO34.SA",
         6.809999942779541
        ]
       ],
       "datasetInfos": [],
       "dbfsResultPath": null,
       "isJsonSchema": true,
       "metadata": {},
       "overflow": false,
       "plotOptions": {
        "customPlotOptions": {},
        "displayType": "table",
        "pivotAggregation": null,
        "pivotColumns": null,
        "xColumns": null,
        "yColumns": null
       },
       "removedWidgets": [],
       "schema": [
        {
         "metadata": "{}",
         "name": "Nome",
         "type": "\"string\""
        },
        {
         "metadata": "{}",
         "name": "Close",
         "type": "\"double\""
        }
       ],
       "type": "table"
      }
     },
     "output_type": "display_data"
    }
   ],
   "source": [
    "display(df_acoes)"
   ]
  },
  {
   "cell_type": "markdown",
   "metadata": {
    "application/vnd.databricks.v1+cell": {
     "cellMetadata": {
      "byteLimit": 2048000,
      "rowLimit": 10000
     },
     "inputWidgets": {},
     "nuid": "c8bb2570-9503-49d8-8e3f-49d4789e6a7b",
     "showTitle": false,
     "title": ""
    }
   },
   "source": [
    "## 4. Tratamento dos dados"
   ]
  },
  {
   "cell_type": "code",
   "execution_count": 0,
   "metadata": {
    "application/vnd.databricks.v1+cell": {
     "cellMetadata": {
      "byteLimit": 2048000,
      "rowLimit": 10000
     },
     "inputWidgets": {},
     "nuid": "e4c9abae-504d-4d18-8380-676290e3839c",
     "showTitle": false,
     "title": ""
    }
   },
   "outputs": [],
   "source": [
    "formato = \"%Y-%m-%d %H:%M:%S\"\n",
    "fuso_horario_brasilia = pytz.timezone('America/Sao_Paulo')\n",
    "data_hora_utc = datetime.datetime.utcnow()\n",
    "data_hora_brasilia = data_hora_utc.replace(tzinfo=pytz.utc).astimezone(fuso_horario_brasilia)\n",
    "data_hora_atual = data_hora_brasilia.strftime(formato)\n",
    "df_acoes = df_acoes.copy()\n",
    "df_acoes.loc[:, 'data_processamento'] = data_hora_atual\n",
    "df_acoes.loc[:, 'Close'] = df_acoes['Close'].round(2)\n",
    "df_acoes = df_acoes.rename(columns={'Close': 'valor_das_acoes'})"
   ]
  },
  {
   "cell_type": "code",
   "execution_count": 0,
   "metadata": {
    "application/vnd.databricks.v1+cell": {
     "cellMetadata": {
      "byteLimit": 2048000,
      "rowLimit": 10000
     },
     "inputWidgets": {},
     "nuid": "5be3692a-da69-477c-9d44-f78d916085ed",
     "showTitle": false,
     "title": ""
    }
   },
   "outputs": [
    {
     "output_type": "display_data",
     "data": {
      "text/html": [
       "<style scoped>\n",
       "  .table-result-container {\n",
       "    max-height: 300px;\n",
       "    overflow: auto;\n",
       "  }\n",
       "  table, th, td {\n",
       "    border: 1px solid black;\n",
       "    border-collapse: collapse;\n",
       "  }\n",
       "  th, td {\n",
       "    padding: 5px;\n",
       "  }\n",
       "  th {\n",
       "    text-align: left;\n",
       "  }\n",
       "</style><div class='table-result-container'><table class='table-result'><thead style='background-color: white'><tr><th>Nome</th><th>valor_das_acoes</th><th>data_processamento</th></tr></thead><tbody><tr><td>ITSA4.SA</td><td>9.76</td><td>2023-12-04 18:13:39</td></tr><tr><td>BBDC4.SA</td><td>16.14</td><td>2023-12-04 18:13:39</td></tr><tr><td>BCSA34.SA</td><td>20.4</td><td>2023-12-04 18:13:39</td></tr><tr><td>ROXO34.SA</td><td>6.81</td><td>2023-12-04 18:13:39</td></tr></tbody></table></div>"
      ]
     },
     "metadata": {
      "application/vnd.databricks.v1+output": {
       "addedWidgets": {},
       "aggData": [],
       "aggError": "",
       "aggOverflow": false,
       "aggSchema": [],
       "aggSeriesLimitReached": false,
       "aggType": "",
       "arguments": {},
       "columnCustomDisplayInfos": {},
       "data": [
        [
         "ITSA4.SA",
         9.76,
         "2023-12-04 18:13:39"
        ],
        [
         "BBDC4.SA",
         16.14,
         "2023-12-04 18:13:39"
        ],
        [
         "BCSA34.SA",
         20.4,
         "2023-12-04 18:13:39"
        ],
        [
         "ROXO34.SA",
         6.81,
         "2023-12-04 18:13:39"
        ]
       ],
       "datasetInfos": [],
       "dbfsResultPath": null,
       "isJsonSchema": true,
       "metadata": {},
       "overflow": false,
       "plotOptions": {
        "customPlotOptions": {},
        "displayType": "table",
        "pivotAggregation": null,
        "pivotColumns": null,
        "xColumns": null,
        "yColumns": null
       },
       "removedWidgets": [],
       "schema": [
        {
         "metadata": "{}",
         "name": "Nome",
         "type": "\"string\""
        },
        {
         "metadata": "{}",
         "name": "valor_das_acoes",
         "type": "\"double\""
        },
        {
         "metadata": "{}",
         "name": "data_processamento",
         "type": "\"string\""
        }
       ],
       "type": "table"
      }
     },
     "output_type": "display_data"
    }
   ],
   "source": [
    "display(df_acoes)"
   ]
  },
  {
   "cell_type": "markdown",
   "metadata": {
    "application/vnd.databricks.v1+cell": {
     "cellMetadata": {
      "byteLimit": 2048000,
      "rowLimit": 10000
     },
     "inputWidgets": {},
     "nuid": "4b5dbb22-a3ab-487f-90e7-d385ecf42c5f",
     "showTitle": false,
     "title": ""
    }
   },
   "source": [
    "## 5. Salvando em CSV"
   ]
  },
  {
   "cell_type": "code",
   "execution_count": 0,
   "metadata": {
    "application/vnd.databricks.v1+cell": {
     "cellMetadata": {
      "byteLimit": 2048000,
      "rowLimit": 10000
     },
     "inputWidgets": {},
     "nuid": "38c4a489-a3fe-45f8-bc29-93d098a8a956",
     "showTitle": false,
     "title": ""
    }
   },
   "outputs": [],
   "source": [
    "caminho = \"acoes_b3.csv\"\n",
    "df_acoes.to_csv(caminho, index=False)"
   ]
  },
  {
   "cell_type": "code",
   "execution_count": 0,
   "metadata": {
    "application/vnd.databricks.v1+cell": {
     "cellMetadata": {
      "byteLimit": 2048000,
      "rowLimit": 10000
     },
     "inputWidgets": {},
     "nuid": "98a97a5a-908e-4411-8432-ec647b1b84be",
     "showTitle": false,
     "title": ""
    }
   },
   "outputs": [
    {
     "output_type": "display_data",
     "data": {
      "text/html": [
       "<style scoped>\n",
       "  .table-result-container {\n",
       "    max-height: 300px;\n",
       "    overflow: auto;\n",
       "  }\n",
       "  table, th, td {\n",
       "    border: 1px solid black;\n",
       "    border-collapse: collapse;\n",
       "  }\n",
       "  th, td {\n",
       "    padding: 5px;\n",
       "  }\n",
       "  th {\n",
       "    text-align: left;\n",
       "  }\n",
       "</style><div class='table-result-container'><table class='table-result'><thead style='background-color: white'><tr><th>Nome</th><th>valor_das_acoes</th><th>data_processamento</th></tr></thead><tbody><tr><td>ITSA4.SA</td><td>9.76</td><td>2023-12-04 18:13:39</td></tr><tr><td>BBDC4.SA</td><td>16.14</td><td>2023-12-04 18:13:39</td></tr><tr><td>BCSA34.SA</td><td>20.4</td><td>2023-12-04 18:13:39</td></tr><tr><td>ROXO34.SA</td><td>6.81</td><td>2023-12-04 18:13:39</td></tr></tbody></table></div>"
      ]
     },
     "metadata": {
      "application/vnd.databricks.v1+output": {
       "addedWidgets": {},
       "aggData": [],
       "aggError": "",
       "aggOverflow": false,
       "aggSchema": [],
       "aggSeriesLimitReached": false,
       "aggType": "",
       "arguments": {},
       "columnCustomDisplayInfos": {},
       "data": [
        [
         "ITSA4.SA",
         9.76,
         "2023-12-04 18:13:39"
        ],
        [
         "BBDC4.SA",
         16.14,
         "2023-12-04 18:13:39"
        ],
        [
         "BCSA34.SA",
         20.4,
         "2023-12-04 18:13:39"
        ],
        [
         "ROXO34.SA",
         6.81,
         "2023-12-04 18:13:39"
        ]
       ],
       "datasetInfos": [],
       "dbfsResultPath": null,
       "isJsonSchema": true,
       "metadata": {},
       "overflow": false,
       "plotOptions": {
        "customPlotOptions": {},
        "displayType": "table",
        "pivotAggregation": null,
        "pivotColumns": null,
        "xColumns": null,
        "yColumns": null
       },
       "removedWidgets": [],
       "schema": [
        {
         "metadata": "{}",
         "name": "Nome",
         "type": "\"string\""
        },
        {
         "metadata": "{}",
         "name": "valor_das_acoes",
         "type": "\"double\""
        },
        {
         "metadata": "{}",
         "name": "data_processamento",
         "type": "\"string\""
        }
       ],
       "type": "table"
      }
     },
     "output_type": "display_data"
    }
   ],
   "source": [
    "display(df_acoes)"
   ]
  },
  {
   "cell_type": "markdown",
   "metadata": {
    "application/vnd.databricks.v1+cell": {
     "cellMetadata": {
      "byteLimit": 2048000,
      "rowLimit": 10000
     },
     "inputWidgets": {},
     "nuid": "a471ba24-2db2-49a4-8ac2-c9f1a108c342",
     "showTitle": false,
     "title": ""
    }
   },
   "source": [
    "## 7. Instalando o sdk do Splunk "
   ]
  },
  {
   "cell_type": "code",
   "execution_count": 0,
   "metadata": {
    "application/vnd.databricks.v1+cell": {
     "cellMetadata": {
      "byteLimit": 2048000,
      "rowLimit": 10000
     },
     "inputWidgets": {},
     "nuid": "ebdfce97-4b36-408c-b34c-a4e430cbcd0c",
     "showTitle": false,
     "title": ""
    }
   },
   "outputs": [
    {
     "output_type": "stream",
     "name": "stdout",
     "output_type": "stream",
     "text": [
      "Python interpreter will be restarted.\nRequirement already satisfied: splunk-sdk in /local_disk0/.ephemeral_nfs/envs/pythonEnv-18e00d0d-6ae4-4ca5-bc13-60d9b64128f0/lib/python3.9/site-packages (1.7.4)\nPython interpreter will be restarted.\n"
     ]
    }
   ],
   "source": [
    "pip install splunk-sdk"
   ]
  },
  {
   "cell_type": "markdown",
   "metadata": {
    "application/vnd.databricks.v1+cell": {
     "cellMetadata": {
      "byteLimit": 2048000,
      "rowLimit": 10000
     },
     "inputWidgets": {},
     "nuid": "e9b2501d-c519-4f96-b7de-f57745c59527",
     "showTitle": false,
     "title": ""
    }
   },
   "source": [
    "## 7.1 Realizando a conexão com o Splunk via Python"
   ]
  },
  {
   "cell_type": "code",
   "execution_count": 0,
   "metadata": {
    "application/vnd.databricks.v1+cell": {
     "cellMetadata": {
      "byteLimit": 2048000,
      "rowLimit": 10000
     },
     "inputWidgets": {},
     "nuid": "1353e820-3ccc-4288-8360-c9c976253c33",
     "showTitle": false,
     "title": ""
    }
   },
   "outputs": [
    {
     "output_type": "stream",
     "name": "stdout",
     "output_type": "stream",
     "text": [
      "Out[1]: '\\nfrom splunklib import client\\n\\n# Configurações de conexão com o Splunk\\nSPLUNK_HOST = \"splunk_host\"\\nSPLUNK_PORT = 8089\\nSPLUNK_USERNAME = \"usuario_splunk\"\\nSPLUNK_PASSWORD = \"senha_splunk\"\\nSPLUNK_INDEX = \"index\"\\n\\n# Informando os parâmetros para estabelecer a conexão com o Splunk\\nservice = client.connect(\\n    host=SPLUNK_HOST,\\n    port=SPLUNK_PORT,\\n    username=SPLUNK_USERNAME,\\n    password=SPLUNK_PASSWORD\\n)\\n\\n# Ponto de registro no Splunk: Início do script\\nintTimeStamp_inicio = int(datetime.datetime.now().timestamp())\\nstrAcao_inicio = \"Script Iniciado\"\\nstrHostName = \"Host\" \\nstrLogLevel = \"Info\"\\n\\n# Registra o log no Splunk\\nservice.log(SPLUNK_INDEX, strAcao_inicio, intTimeStamp_inicio, host=strHostName, level=strLogLevel)\\n'"
     ]
    }
   ],
   "source": [
    "'''\n",
    "from splunklib import client\n",
    "\n",
    "# Configurações de conexão com o Splunk\n",
    "SPLUNK_HOST = \"splunk_host\"\n",
    "SPLUNK_PORT = 8089\n",
    "SPLUNK_USERNAME = \"usuario_splunk\"\n",
    "SPLUNK_PASSWORD = \"senha_splunk\"\n",
    "SPLUNK_INDEX = \"index\"\n",
    "\n",
    "# Informando os parâmetros para estabelecer a conexão com o Splunk\n",
    "service = client.connect(\n",
    "    host=SPLUNK_HOST,\n",
    "    port=SPLUNK_PORT,\n",
    "    username=SPLUNK_USERNAME,\n",
    "    password=SPLUNK_PASSWORD\n",
    ")\n",
    "\n",
    "# Ponto de registro no Splunk: Início do script\n",
    "intTimeStamp_inicio = int(datetime.datetime.now().timestamp())\n",
    "strAcao_inicio = \"Script Iniciado\"\n",
    "strHostName = \"Host\" \n",
    "strLogLevel = \"Info\"\n",
    "\n",
    "# Registra o log no Splunk\n",
    "service.log(SPLUNK_INDEX, strAcao_inicio, intTimeStamp_inicio, host=strHostName, level=strLogLevel)\n",
    "'''"
   ]
  }
 ],
 "metadata": {
  "application/vnd.databricks.v1+notebook": {
   "dashboards": [],
   "language": "python",
   "notebookMetadata": {
    "pythonIndentUnit": 2
   },
   "notebookName": "Dados_B3",
   "widgets": {}
  }
 },
 "nbformat": 4,
 "nbformat_minor": 0
}
