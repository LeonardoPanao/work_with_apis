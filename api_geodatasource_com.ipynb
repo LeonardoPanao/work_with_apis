{
 "cells": [
  {
   "cell_type": "markdown",
   "metadata": {
    "application/vnd.databricks.v1+cell": {
     "cellMetadata": {},
     "inputWidgets": {},
     "nuid": "85caa126-f722-4bdf-b5da-1bccafc6d859",
     "showTitle": false,
     "title": ""
    }
   },
   "source": [
    "## 1 - Importação de Bibliotecas"
   ]
  },
  {
   "cell_type": "code",
   "execution_count": 0,
   "metadata": {
    "application/vnd.databricks.v1+cell": {
     "cellMetadata": {
      "byteLimit": 2048000,
      "rowLimit": 10000
     },
     "inputWidgets": {},
     "nuid": "d0031e0c-fe6f-466f-9b06-aae01b3762db",
     "showTitle": false,
     "title": ""
    }
   },
   "outputs": [
    {
     "output_type": "display_data",
     "data": {
      "application/vnd.databricks.v1+bamboolib_hint": "{\"pd.DataFrames\": [], \"version\": \"0.0.1\"}",
      "text/plain": []
     },
     "metadata": {},
     "output_type": "display_data"
    }
   ],
   "source": [
    "import http.client\n",
    "import urllib\n",
    "import json\n",
    "import pandas as pd"
   ]
  },
  {
   "cell_type": "markdown",
   "metadata": {
    "application/vnd.databricks.v1+cell": {
     "cellMetadata": {
      "byteLimit": 2048000,
      "rowLimit": 10000
     },
     "inputWidgets": {},
     "nuid": "f7e09288-2d95-42d3-af65-2ff5e0ba9684",
     "showTitle": false,
     "title": ""
    }
   },
   "source": [
    "## 2 - A chave é passada por parâmetro com os dados em formato json, para obter o retorno da API, é realizada uma chamada via HTTP (Request) e recebemos os dados (request) e printamos o retorno da API."
   ]
  },
  {
   "cell_type": "code",
   "execution_count": 0,
   "metadata": {
    "application/vnd.databricks.v1+cell": {
     "cellMetadata": {
      "byteLimit": 2048000,
      "rowLimit": 10000
     },
     "inputWidgets": {},
     "nuid": "bd267145-f2d3-4d76-8202-f4b577647885",
     "showTitle": false,
     "title": ""
    }
   },
   "outputs": [
    {
     "output_type": "stream",
     "name": "stdout",
     "output_type": "stream",
     "text": [
      "b'{\"country\":\"US\",\"region\":\"California\",\"city\":\"Mountain View\",\"latitude\":\"37.3861\",\"longitude\":\"-122.084\",\"currency_code\":\"USD\",\"currency_name\":\"United States Dollar\",\"currency_symbol\":\"$\",\"sunrise\":\"05:52\",\"sunset\":\"20:18\",\"time_zone\":\"-08:00\",\"distance_km\":\"0.0001\"}'\n"
     ]
    }
   ],
   "source": [
    "p = { 'key': 'Y038KG6Y3FS0WXLDU9GCWOIYJ4ADSQUP', 'format': 'json', 'lat': 37.3861, 'lng': -122.084 }\n",
    "\n",
    "conn = http.client.HTTPConnection(\"api.geodatasource.com\")\n",
    "conn.request(\"GET\", \"/city?\" + urllib.parse.urlencode(p))\n",
    "res = conn.getresponse()\n",
    "data = res.read()\n",
    "print(data)"
   ]
  },
  {
   "cell_type": "markdown",
   "metadata": {
    "application/vnd.databricks.v1+cell": {
     "cellMetadata": {
      "byteLimit": 2048000,
      "rowLimit": 10000
     },
     "inputWidgets": {},
     "nuid": "83a4e056-c3e4-48a7-886c-db624078f251",
     "showTitle": false,
     "title": ""
    }
   },
   "source": [
    "## 3 - Realizado o parsing de uma string JSON e em uma estrutura de dados Python"
   ]
  },
  {
   "cell_type": "code",
   "execution_count": 0,
   "metadata": {
    "application/vnd.databricks.v1+cell": {
     "cellMetadata": {
      "byteLimit": 2048000,
      "rowLimit": 10000
     },
     "inputWidgets": {},
     "nuid": "7848d371-248b-4436-9545-5a27f33df1b9",
     "showTitle": false,
     "title": ""
    }
   },
   "outputs": [],
   "source": [
    "try:\n",
    "  json_data = json.loads(data)\n",
    "except BaseException as e:\n",
    "  print('The file contains invalid JSON')"
   ]
  },
  {
   "cell_type": "markdown",
   "metadata": {
    "application/vnd.databricks.v1+cell": {
     "cellMetadata": {
      "byteLimit": 2048000,
      "rowLimit": 10000
     },
     "inputWidgets": {},
     "nuid": "ba8189dc-d026-4b49-9ce5-e561471b0761",
     "showTitle": false,
     "title": ""
    }
   },
   "source": [
    "## 4 - Conversão do json para estrutura python e criação do data frame PySpark"
   ]
  },
  {
   "cell_type": "code",
   "execution_count": 0,
   "metadata": {
    "application/vnd.databricks.v1+cell": {
     "cellMetadata": {
      "byteLimit": 2048000,
      "rowLimit": 10000
     },
     "inputWidgets": {},
     "nuid": "1ef9904f-fcc5-48ab-9a15-229ee2d7dd5d",
     "showTitle": false,
     "title": ""
    }
   },
   "outputs": [],
   "source": [
    "json_rdd = spark.sparkContext.parallelize([json_data])\n",
    "df_spark_nexa = spark.read.json(json_rdd)"
   ]
  },
  {
   "cell_type": "code",
   "execution_count": 0,
   "metadata": {
    "application/vnd.databricks.v1+cell": {
     "cellMetadata": {
      "byteLimit": 2048000,
      "rowLimit": 10000
     },
     "inputWidgets": {},
     "nuid": "688c11b2-54f6-460c-8d20-69001aee21af",
     "showTitle": false,
     "title": ""
    }
   },
   "outputs": [
    {
     "output_type": "display_data",
     "data": {
      "text/html": [
       "<style scoped>\n",
       "  .table-result-container {\n",
       "    max-height: 300px;\n",
       "    overflow: auto;\n",
       "  }\n",
       "  table, th, td {\n",
       "    border: 1px solid black;\n",
       "    border-collapse: collapse;\n",
       "  }\n",
       "  th, td {\n",
       "    padding: 5px;\n",
       "  }\n",
       "  th {\n",
       "    text-align: left;\n",
       "  }\n",
       "</style><div class='table-result-container'><table class='table-result'><thead style='background-color: white'><tr><th>city</th><th>country</th><th>currency_code</th><th>currency_name</th><th>currency_symbol</th><th>distance_km</th><th>latitude</th><th>longitude</th><th>region</th><th>sunrise</th><th>sunset</th><th>time_zone</th></tr></thead><tbody><tr><td>Mountain View</td><td>US</td><td>USD</td><td>United States Dollar</td><td>$</td><td>0.0001</td><td>37.3861</td><td>-122.084</td><td>California</td><td>05:52</td><td>20:18</td><td>-08:00</td></tr></tbody></table></div>"
      ]
     },
     "metadata": {
      "application/vnd.databricks.v1+output": {
       "addedWidgets": {},
       "aggData": [],
       "aggError": "",
       "aggOverflow": false,
       "aggSchema": [],
       "aggSeriesLimitReached": false,
       "aggType": "",
       "arguments": {},
       "columnCustomDisplayInfos": {},
       "data": [
        [
         "Mountain View",
         "US",
         "USD",
         "United States Dollar",
         "$",
         "0.0001",
         "37.3861",
         "-122.084",
         "California",
         "05:52",
         "20:18",
         "-08:00"
        ]
       ],
       "datasetInfos": [],
       "dbfsResultPath": null,
       "isJsonSchema": true,
       "metadata": {},
       "overflow": false,
       "plotOptions": {
        "customPlotOptions": {},
        "displayType": "table",
        "pivotAggregation": null,
        "pivotColumns": null,
        "xColumns": null,
        "yColumns": null
       },
       "removedWidgets": [],
       "schema": [
        {
         "metadata": "{}",
         "name": "city",
         "type": "\"string\""
        },
        {
         "metadata": "{}",
         "name": "country",
         "type": "\"string\""
        },
        {
         "metadata": "{}",
         "name": "currency_code",
         "type": "\"string\""
        },
        {
         "metadata": "{}",
         "name": "currency_name",
         "type": "\"string\""
        },
        {
         "metadata": "{}",
         "name": "currency_symbol",
         "type": "\"string\""
        },
        {
         "metadata": "{}",
         "name": "distance_km",
         "type": "\"string\""
        },
        {
         "metadata": "{}",
         "name": "latitude",
         "type": "\"string\""
        },
        {
         "metadata": "{}",
         "name": "longitude",
         "type": "\"string\""
        },
        {
         "metadata": "{}",
         "name": "region",
         "type": "\"string\""
        },
        {
         "metadata": "{}",
         "name": "sunrise",
         "type": "\"string\""
        },
        {
         "metadata": "{}",
         "name": "sunset",
         "type": "\"string\""
        },
        {
         "metadata": "{}",
         "name": "time_zone",
         "type": "\"string\""
        }
       ],
       "type": "table"
      }
     },
     "output_type": "display_data"
    }
   ],
   "source": [
    "display(df_spark_nexa)"
   ]
  },
  {
   "cell_type": "markdown",
   "metadata": {
    "application/vnd.databricks.v1+cell": {
     "cellMetadata": {
      "byteLimit": 2048000,
      "rowLimit": 10000
     },
     "inputWidgets": {},
     "nuid": "81c2775a-49f1-4943-af2a-4cc3bfbbfdce",
     "showTitle": false,
     "title": ""
    }
   },
   "source": [
    "## 5 - Conversão para data frame do pandas"
   ]
  },
  {
   "cell_type": "code",
   "execution_count": 0,
   "metadata": {
    "application/vnd.databricks.v1+cell": {
     "cellMetadata": {
      "byteLimit": 2048000,
      "rowLimit": 10000
     },
     "inputWidgets": {},
     "nuid": "7447ed82-ff80-4b50-a39b-168130544552",
     "showTitle": false,
     "title": ""
    }
   },
   "outputs": [],
   "source": [
    "pdf_nexa_resources = pd.json_normalize(json_data)"
   ]
  },
  {
   "cell_type": "code",
   "execution_count": 0,
   "metadata": {
    "application/vnd.databricks.v1+cell": {
     "cellMetadata": {
      "byteLimit": 2048000,
      "rowLimit": 10000
     },
     "inputWidgets": {},
     "nuid": "99124f18-f89f-4eef-a621-247104f5bfd1",
     "showTitle": false,
     "title": ""
    }
   },
   "outputs": [
    {
     "output_type": "display_data",
     "data": {
      "text/html": [
       "<style scoped>\n",
       "  .table-result-container {\n",
       "    max-height: 300px;\n",
       "    overflow: auto;\n",
       "  }\n",
       "  table, th, td {\n",
       "    border: 1px solid black;\n",
       "    border-collapse: collapse;\n",
       "  }\n",
       "  th, td {\n",
       "    padding: 5px;\n",
       "  }\n",
       "  th {\n",
       "    text-align: left;\n",
       "  }\n",
       "</style><div class='table-result-container'><table class='table-result'><thead style='background-color: white'><tr><th>country</th><th>region</th><th>city</th><th>latitude</th><th>longitude</th><th>currency_code</th><th>currency_name</th><th>currency_symbol</th><th>sunrise</th><th>sunset</th><th>time_zone</th><th>distance_km</th></tr></thead><tbody><tr><td>US</td><td>California</td><td>Mountain View</td><td>37.3861</td><td>-122.084</td><td>USD</td><td>United States Dollar</td><td>$</td><td>05:52</td><td>20:18</td><td>-08:00</td><td>0.0001</td></tr></tbody></table></div>"
      ]
     },
     "metadata": {
      "application/vnd.databricks.v1+output": {
       "addedWidgets": {},
       "aggData": [],
       "aggError": "",
       "aggOverflow": false,
       "aggSchema": [],
       "aggSeriesLimitReached": false,
       "aggType": "",
       "arguments": {},
       "columnCustomDisplayInfos": {},
       "data": [
        [
         "US",
         "California",
         "Mountain View",
         "37.3861",
         "-122.084",
         "USD",
         "United States Dollar",
         "$",
         "05:52",
         "20:18",
         "-08:00",
         "0.0001"
        ]
       ],
       "datasetInfos": [],
       "dbfsResultPath": null,
       "isJsonSchema": true,
       "metadata": {},
       "overflow": false,
       "plotOptions": {
        "customPlotOptions": {},
        "displayType": "table",
        "pivotAggregation": null,
        "pivotColumns": null,
        "xColumns": null,
        "yColumns": null
       },
       "removedWidgets": [],
       "schema": [
        {
         "metadata": "{}",
         "name": "country",
         "type": "\"string\""
        },
        {
         "metadata": "{}",
         "name": "region",
         "type": "\"string\""
        },
        {
         "metadata": "{}",
         "name": "city",
         "type": "\"string\""
        },
        {
         "metadata": "{}",
         "name": "latitude",
         "type": "\"string\""
        },
        {
         "metadata": "{}",
         "name": "longitude",
         "type": "\"string\""
        },
        {
         "metadata": "{}",
         "name": "currency_code",
         "type": "\"string\""
        },
        {
         "metadata": "{}",
         "name": "currency_name",
         "type": "\"string\""
        },
        {
         "metadata": "{}",
         "name": "currency_symbol",
         "type": "\"string\""
        },
        {
         "metadata": "{}",
         "name": "sunrise",
         "type": "\"string\""
        },
        {
         "metadata": "{}",
         "name": "sunset",
         "type": "\"string\""
        },
        {
         "metadata": "{}",
         "name": "time_zone",
         "type": "\"string\""
        },
        {
         "metadata": "{}",
         "name": "distance_km",
         "type": "\"string\""
        }
       ],
       "type": "table"
      }
     },
     "output_type": "display_data"
    }
   ],
   "source": [
    "display(pdf_nexa_resources)"
   ]
  },
  {
   "cell_type": "markdown",
   "metadata": {
    "application/vnd.databricks.v1+cell": {
     "cellMetadata": {
      "byteLimit": 2048000,
      "rowLimit": 10000
     },
     "inputWidgets": {},
     "nuid": "2b4b2b4c-c8d0-47d0-9517-6b7d7140d287",
     "showTitle": false,
     "title": ""
    }
   },
   "source": [
    "## 6- Forma de receber um argumento passado por uma pipeline do data factory"
   ]
  },
  {
   "cell_type": "code",
   "execution_count": 0,
   "metadata": {
    "application/vnd.databricks.v1+cell": {
     "cellMetadata": {
      "byteLimit": 2048000,
      "rowLimit": 10000
     },
     "inputWidgets": {},
     "nuid": "68980db8-65a1-469e-98b7-4f889485914a",
     "showTitle": false,
     "title": ""
    }
   },
   "outputs": [
    {
     "output_type": "stream",
     "name": "stdout",
     "output_type": "stream",
     "text": [
      "\n"
     ]
    }
   ],
   "source": [
    "dbutils.widgets.text(\"arg\", \"\", \"\")\n",
    "arg = dbutils.widgets.get(\"arg\")\n",
    "print (arg)"
   ]
  }
 ],
 "metadata": {
  "application/vnd.databricks.v1+notebook": {
   "dashboards": [],
   "language": "python",
   "notebookMetadata": {
    "pythonIndentUnit": 2
   },
   "notebookName": "nexa_resources",
   "widgets": {
    "arg": {
     "currentValue": "",
     "nuid": "fbfcac58-d1be-4503-b35b-e3a1d872989f",
     "widgetInfo": {
      "widgetType": "text",
      "defaultValue": "",
      "label": "",
      "name": "arg",
      "options": {
       "widgetType": "text",
       "autoCreated": null,
       "validationRegex": null
      }
     }
    }
   }
  }
 },
 "nbformat": 4,
 "nbformat_minor": 0
}
